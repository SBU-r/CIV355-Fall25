{
  "nbformat": 4,
  "nbformat_minor": 0,
  "metadata": {
    "colab": {
      "provenance": []
    },
    "kernelspec": {
      "name": "python3",
      "display_name": "Python 3"
    },
    "language_info": {
      "name": "python"
    }
  },
  "cells": [
    {
      "cell_type": "code",
      "execution_count": null,
      "metadata": {
        "colab": {
          "base_uri": "https://localhost:8080/"
        },
        "id": "kpSzImPRSc8P",
        "outputId": "72603b77-3fbb-4df2-e845-39f1e3d99c82"
      },
      "outputs": [
        {
          "output_type": "stream",
          "name": "stdout",
          "text": [
            "Mounted at /content/drive\n"
          ]
        }
      ],
      "source": [
        "# Mount your Google Drive\n",
        "from google.colab import drive\n",
        "drive.mount('/content/drive')"
      ]
    },
    {
      "cell_type": "code",
      "source": [
        "# List files\n",
        "!ls"
      ],
      "metadata": {
        "colab": {
          "base_uri": "https://localhost:8080/"
        },
        "id": "MY7MwUBNSf5q",
        "outputId": "f260456e-5658-485a-fcab-4edbd4bc8abc"
      },
      "execution_count": null,
      "outputs": [
        {
          "output_type": "stream",
          "name": "stdout",
          "text": [
            "drive  sample_data\n"
          ]
        }
      ]
    },
    {
      "cell_type": "code",
      "source": [
        "# Create a folder named \"Colab Notebooks\" in Google Drive to save notebooks for this course\n",
        "import os\n",
        "\n",
        "folder_name = \"Colab Notebooks\"\n",
        "folder_path = os.path.join(\"/content/drive/MyDrive\", folder_name)\n",
        "\n",
        "if not os.path.exists(folder_path):\n",
        "  os.makedirs(folder_path)\n",
        "  print(f\"Folder '{folder_name}' created successfully in Google Drive.\")\n",
        "else:\n",
        "  print(f\"Folder '{folder_name}' already exists in Google Drive.\")"
      ],
      "metadata": {
        "colab": {
          "base_uri": "https://localhost:8080/"
        },
        "id": "2dHBplU_SiOl",
        "outputId": "2e9c9cae-6f95-4cb3-c2cb-9056b22acaa1"
      },
      "execution_count": null,
      "outputs": [
        {
          "output_type": "stream",
          "name": "stdout",
          "text": [
            "Folder 'Colab Notebooks' already exists in Google Drive.\n"
          ]
        }
      ]
    },
    {
      "cell_type": "code",
      "source": [
        "# Create a subfolder named \"Data\" within \"Colab Notebooks\" to save data used for this course\n",
        "import os\n",
        "\n",
        "folder_name = \"Data\"\n",
        "folder_path = os.path.join(\"/content/drive/MyDrive/Colab Notebooks\", folder_name)\n",
        "\n",
        "if not os.path.exists(folder_path):\n",
        "  os.makedirs(folder_path)\n",
        "  print(f\"Folder '{folder_name}' created successfully in Google Drive.\")\n",
        "else:\n",
        "  print(f\"Folder '{folder_name}' already exists in Google Drive.\")"
      ],
      "metadata": {
        "colab": {
          "base_uri": "https://localhost:8080/"
        },
        "id": "Tp1zMqi_SlAZ",
        "outputId": "eec469b1-49d2-4682-c4e6-735ecc2a8414"
      },
      "execution_count": null,
      "outputs": [
        {
          "output_type": "stream",
          "name": "stdout",
          "text": [
            "Folder 'Data' already exists in Google Drive.\n"
          ]
        }
      ]
    },
    {
      "cell_type": "code",
      "source": [
        "# make the folder \"Colab Notebooks\" as the current working directory\n",
        "%cd \"/content/drive/MyDrive/Colab Notebooks\""
      ],
      "metadata": {
        "colab": {
          "base_uri": "https://localhost:8080/"
        },
        "id": "sLYRNXPTSpWt",
        "outputId": "8c2e50de-d173-4fbc-8bc4-68fd442175e8"
      },
      "execution_count": null,
      "outputs": [
        {
          "output_type": "stream",
          "name": "stdout",
          "text": [
            "/content/drive/MyDrive/Colab Notebooks\n"
          ]
        }
      ]
    },
    {
      "cell_type": "code",
      "source": [
        "print('ok')"
      ],
      "metadata": {
        "id": "taOeFsnaGVXo",
        "outputId": "1a070d1c-66a0-4b6e-e868-9c030634adc8",
        "colab": {
          "base_uri": "https://localhost:8080/"
        }
      },
      "execution_count": 1,
      "outputs": [
        {
          "output_type": "stream",
          "name": "stdout",
          "text": [
            "ok\n"
          ]
        }
      ]
    }
  ]
}