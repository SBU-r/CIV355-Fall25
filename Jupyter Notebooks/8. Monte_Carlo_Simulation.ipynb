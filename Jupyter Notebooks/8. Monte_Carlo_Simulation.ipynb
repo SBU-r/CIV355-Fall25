{
 "cells": [
  {
   "cell_type": "markdown",
   "metadata": {},
   "source": [
    "# Monte Carlo Simulation"
   ]
  },
  {
   "cell_type": "markdown",
   "metadata": {},
   "source": [
    "**If you are a Colab user**"
   ]
  },
  {
   "cell_type": "markdown",
   "metadata": {
    "colab": {
     "base_uri": "https://localhost:8080/"
    },
    "executionInfo": {
     "elapsed": 938,
     "status": "ok",
     "timestamp": 1665147122436,
     "user": {
      "displayName": "Ruwen Qin",
      "userId": "01885423067234457717"
     },
     "user_tz": 240
    },
    "id": "eo7GTs2WpFKW",
    "outputId": "506b7031-8b90-41e7-9228-7cda99bf35ad"
   },
   "source": [
    "If you use Google Colab, you can uncomment the following cell to mount your Google Drive to Colab. <br>\n",
    "After that, Colab can read/write files and data in your Google Drive <br>\n",
    "\n",
    "please change the current directory to be the folder that you save your Notebook and <br>\n",
    "data folder. For example, I save my Colab files and data in the following location"
   ]
  },
  {
   "cell_type": "code",
   "execution_count": 1,
   "metadata": {},
   "outputs": [],
   "source": [
    "#from google.colab import drive\n",
    "#drive.mount('/content/drive')\n",
    "\n",
    "#%cd /content/drive/MyDrive/Colab\\ Notebooks"
   ]
  },
  {
   "cell_type": "markdown",
   "metadata": {},
   "source": [
    "**Set up standards for the remainder of the notebook**"
   ]
  },
  {
   "cell_type": "code",
   "execution_count": 2,
   "metadata": {
    "executionInfo": {
     "elapsed": 18,
     "status": "ok",
     "timestamp": 1665147122437,
     "user": {
      "displayName": "Ruwen Qin",
      "userId": "01885423067234457717"
     },
     "user_tz": 240
    },
    "id": "RtRRlwyJyyie"
   },
   "outputs": [],
   "source": [
    "# import libraries and modules to be used\n",
    "\n",
    "import numpy as np \n",
    "np.set_printoptions(precision=3, suppress=True)\n",
    "\n",
    "import pandas as pd\n",
    "\n",
    "import matplotlib.pyplot as plt\n",
    "import seaborn as sns\n",
    "\n",
    "# to display multiple outputs in one cell\n",
    "from IPython.core.interactiveshell import InteractiveShell\n",
    "InteractiveShell.ast_node_interactivity = \"all\""
   ]
  },
  {
   "cell_type": "markdown",
   "metadata": {},
   "source": [
    "## Monte Carlo Simulation Method"
   ]
  },
  {
   "cell_type": "markdown",
   "metadata": {},
   "source": [
    "Uncertainty pervades decision making in civil engineering systems. Decision makers are interested in risk and opportunity analysis, that is, quantifying the likelihood and magnitude of an undesirable or desired outcome. Monte Carlo simulation can be used to evaluate the impact of uncertainty on a decision. Simulation models have been successfully used in a variety of studies:\n",
    "- Construction project management\n",
    "- Traffic management\n",
    "- Capacity planning\n",
    "- Data generation\n",
    "- ..."
   ]
  },
  {
   "cell_type": "markdown",
   "metadata": {},
   "source": [
    "### Concept of Monte Carlo Simulation"
   ]
  },
  {
   "attachments": {},
   "cell_type": "markdown",
   "metadata": {},
   "source": [
    "Figure 1 illustrates the concept of Monte Carlo Simulation\n",
    "\n",
    "- Parameters for a system which are not known with a high degree of certainty are called **random, or uncertain, variables**.\n",
    "- A simulation model replaces the use of single values for parameters with probability distributions of possible values.\n",
    "- Recall that a **probability distribution** represents not only the range of possible values but also the relative likelihood of various outcomes.\n",
    "- Simulation results help make decision recommendations for the **controllable inputs** that address not only the average output but also the variability of the output.\n",
    "\n",
    "<div style=\"text-align: center;\">\n",
    "    <img src=\"Figures/MCS-Concept.png\" width=\"800\"><br>\n",
    "    <strong>Figure 1. Concept of Monte Carlo Simulation.</strong>\n",
    "</div>"
   ]
  },
  {
   "cell_type": "markdown",
   "metadata": {},
   "source": [
    "### How to Generate Random Numbers from Its Distribution?"
   ]
  },
  {
   "attachments": {},
   "cell_type": "markdown",
   "metadata": {},
   "source": [
    "A random variable $X$ and its cumulative distribution function $F(x)$ have a one-to-one mapping relationship. That is, any possible value of the random variable, $x$, corresponds to one and only one cumulative probability, $y=F(x)$, and any cumulative probability corresponds to one and only one value of the random variable $x$.\n",
    "\n",
    "We can use the computer-generated random numbers from the standard continuous uniform distribution to represent values of cumulative probability $y$. We find the corresponding values of any random variable via its cumulative distribution function $y = F(x):\n",
    "\n",
    "\\begin{equation}\n",
    "x = F^{-1}(y), \\quad \\text{for any } y\\in [0, 1] \\tag{1}\n",
    "\\end{equation}\n",
    "\n",
    "\n",
    "Figure 2 illustrates how we generate random numbers from their distribution.\n",
    "\n",
    "Let $i$ denote the index of repeated random experiments. In the $i$th random experiment, for $i=1,\\dots, n$, we generate a random number $x_i$ from its distribution using the cumulative distribution function $F(x)$:\n",
    "1. Generate a random number from the standard continuous uniform distribution, denoted by $y_i$, which  represents the cumulative distribution:\n",
    "\n",
    "\\begin{equation}\n",
    "y_i = F(x_i). \\tag{2}\n",
    "\\end{equation}\n",
    "\n",
    "2. The inverse of $y_i$, is the random number $x_i$:\n",
    "\n",
    "\\begin{equation}\n",
    "x_i = F^{-1}(y_i). \\tag{3}\n",
    "\\end{equation}\n",
    "\n",
    "<div style=\"text-align: center;\">\n",
    "    <img src=\"Figures/MCS-RNG.png\" width=\"600\"><br>\n",
    "    <strong>Figure 2. Generation of random numbers from their distribution.</strong>\n",
    "</div>"
   ]
  },
  {
   "cell_type": "markdown",
   "metadata": {},
   "source": [
    "### Inverse of Cumulative Distribution Function $F^{-1}(x)$"
   ]
  },
  {
   "cell_type": "markdown",
   "metadata": {},
   "source": [
    "#### Discrete Random Variables"
   ]
  },
  {
   "attachments": {},
   "cell_type": "markdown",
   "metadata": {},
   "source": [
    "For a discrete random variable, the cumulative distribution is represented as a function of multiple intervals/steps. \n",
    "\n",
    "If $x_{(1)}, \\dots, x_{(m)}$ are all the possible values of the random variable, ranked in an increasing order, the cumulative distribution function takes $m$ possible values $F(x_{(x)}), \\dots, F(x_{(m)})=1$. The $m$ possible values of the cumulative distribution function are the upper boundaries of $m$ mutually exclusive and collectively inclusive intervals. As Figure 3 illustrates:\n",
    "\n",
    "\n",
    "<div style=\"text-align: center;\">\n",
    "    <img src=\"Figures/MSC-DiscreteRNG.png\" width=\"500\"><br>\n",
    "    <strong>Figure 3. Generation of random numbers from their distribution.</strong>\n",
    "</div>\n",
    "\n",
    "\\\n",
    "The inverse of the cumulative distribution function is shown below:\n",
    "\\begin{equation}\n",
    "x_i=\\left\\{\n",
    "\\begin{aligned}\n",
    "x_{(1)}, & \\quad\\text{if } y_i \\leq F(x_{(1)})\\\\\n",
    "x_{(2)}, & \\quad\\text{if } F(x_{(1)}) < y_i \\leq F(x_{(2)})\\\\\n",
    "\\dots \\\\\n",
    "x_{(m)}, & \\quad y_i > \\text{if } F(x_{(m-1)})\\\\\n",
    "\\end{aligned}\n",
    "\\right. \\tag{4}\n",
    "\\end{equation}\n",
    "\n",
    "For example, if a random number $y_i$ generated from the standard continuous uniform distribution falls in the interval $(F(x_{(1)}),F(x_{(2)})] $, the inverse of $y_i$ is $x_{(2)}$, according equation (4)."
   ]
  },
  {
   "cell_type": "markdown",
   "metadata": {},
   "source": [
    "#### Continuous Random Variables"
   ]
  },
  {
   "cell_type": "markdown",
   "metadata": {},
   "source": [
    "- For a continuous random variable that has a well-defined cumulative distribution function, the inverse of cumulative distribution can be derived. Most statistical software have provided the inverse function. \n",
    "\n",
    "- For a continuous random variable that only has an empirical cumulative distribution function, the inverse of cumulative distribution is obtained in the same way as for discrete random variables.\n"
   ]
  },
  {
   "cell_type": "markdown",
   "metadata": {},
   "source": [
    "## Example: Airline Revenue Management"
   ]
  },
  {
   "attachments": {},
   "cell_type": "markdown",
   "metadata": {},
   "source": [
    "Sunshine Airlines is considering an overbooking policy for one of its flights. The airplane has 50 seats, but Sunshine is considering accepting more reservations than seats because sometimes passengers do not show up for their flights, resulting in empty seats. The file Airline$\\_$ShowUp.csv contains data about 1,000 passengers in terms whether they showed up for their respective flights. In addition, the airline company has conducted a field experiment to gauge the demand for reservations for the current flight. During the experiment they did not limit the number of reservations for the flight to observe the demand. The file Airline$\\_$Demand.csv summarizes the result of the field experiment. \n",
    "\n",
    "\n",
    "Sunshine receives a marginal profit of $\\$$150 for each passenger who booked a reservation (regardless of whether they show up). Sunshine incurs a rebooking cost of $\\$$500 for each passenger who books a reservation but is denied sitting due to a full airplane; and this cost results from rescheduling the passenger and any loss of goodwill. To control its rebooking costs, Sunshine wants to set a limit on the number of reservations it will accept. \n",
    "\n",
    "- Evaluate the Sunshine’s average net profit for three options of reservation limits: 50, 52 and 54, respectively. Based on the 95\\% confidence intervals for average net profit, which reservation limited do you recommend?\n",
    "\n",
    "- What's the chance the profit is less than $7,000 after the best overbooking policy is implemented? If the chance is greater than 10%, the company would not implement it.\n"
   ]
  },
  {
   "cell_type": "markdown",
   "metadata": {},
   "source": [
    "### The Revenue Model"
   ]
  },
  {
   "attachments": {},
   "cell_type": "markdown",
   "metadata": {},
   "source": [
    "Let’s define the inputs to the airline revenue management system:\n",
    "- $D$: the demand (a random variable)\n",
    "- $S$: the number of passengers showing up for the flight (a random variable)\n",
    "- $C$: airplane capability (= 50)\n",
    "- $L$: reservation limit (=50, 52, or 54)\n",
    "- $r$: marginal profit for each booking (=$\\$$150)\n",
    "- $c$: rebooking cost for each overbooked passenger (=$\\$$500)\n",
    "\n",
    "Then, let's model the revenue generation:\n",
    "- The number of reservations made is\n",
    "\\begin{equation}\n",
    "\\min (D, L) \\tag{5}\n",
    "\\end{equation}\n",
    "\n",
    "- The number of overbooked passengers is\n",
    "\\begin{equation}\n",
    "\\max(S-C, 0). \\tag{6}\n",
    "\\end{equation}\n",
    "\n",
    "- The profit generated from each flight is\n",
    "\\begin{equation}\n",
    "R(D, S; L, C, r, c) = r\\min(D,L) - c \\max(S-C, 0) \\tag{7}\n",
    "\\end{equation}\n",
    "\n",
    "There are two random inputs to the revenue management system: demand, $D$, and passengers who show up at the flight, $S$. They are modeled respectively in the following. "
   ]
  },
  {
   "cell_type": "markdown",
   "metadata": {
    "id": "TnqdI-8XwBEg"
   },
   "source": [
    "### Model Random Inputs"
   ]
  },
  {
   "cell_type": "markdown",
   "metadata": {
    "id": "XZae8hpcwN6p"
   },
   "source": [
    "#### The random number of passengers showing up for their flight, $S$"
   ]
  },
  {
   "attachments": {},
   "cell_type": "markdown",
   "metadata": {},
   "source": [
    "Whether a passenger shows up for the flight follows a Bernoulli distribution. That is, a passenger has the probability $r$ to show up and $1-r$ to not show up.\n",
    "\\begin{equation}\n",
    "x = \\left\\{\n",
    "\\begin{aligned}\n",
    "1, & \\quad \\text{with probability } p;\\\\\n",
    "0, & \\quad \\text{with probability } 1-p.\n",
    "\\end{aligned}\n",
    "\\right. \\tag{8}\n",
    "\\end{equation}\n",
    "\n",
    "The file Airline$\\_$ShowUp.csv provides the data for estimating this probability.\n",
    "\n",
    "The number of passengers who will show up for the flight, $S$, is accordingly modeled as a binomial distribution:\n",
    "\\begin{equation}\n",
    "f(s; p, \\min(D, L)) = {\\min(D,L) \\choose s} p^{s} (1-p)^{\\min(D,L)-s}. \\tag{9}\n",
    "\\end{equation}\n",
    "\n",
    "The cumulative distribution:\n",
    "\\begin{equation}\n",
    "F(s) = Pr(S\\leq s) =  \\sum_{i=0}^s {\\min(D,L) \\choose i} p^{i} (1-p)^{\\min(D,L)-i}. \\tag{10}\n",
    "\\end{equation}"
   ]
  },
  {
   "cell_type": "code",
   "execution_count": 3,
   "metadata": {
    "colab": {
     "base_uri": "https://localhost:8080/"
    },
    "executionInfo": {
     "elapsed": 13,
     "status": "ok",
     "timestamp": 1665147122616,
     "user": {
      "displayName": "Ruwen Qin",
      "userId": "01885423067234457717"
     },
     "user_tz": 240
    },
    "id": "H3khEoo71-rQ",
    "outputId": "e5cbd1dc-9d77-47df-d1eb-07b5024d9ea8"
   },
   "outputs": [
    {
     "data": {
      "text/plain": [
       "np.float64(0.957)"
      ]
     },
     "execution_count": 3,
     "metadata": {},
     "output_type": "execute_result"
    }
   ],
   "source": [
    "# Model the showup rate, p, based on the historical data\n",
    "Airline_ShowUp = pd.read_csv(\"Data/Airline_ShowUp.csv\")\n",
    "p = Airline_ShowUp['ShowUp'].mean()\n",
    "p"
   ]
  },
  {
   "cell_type": "markdown",
   "metadata": {
    "id": "RdxEWww3x6MX"
   },
   "source": [
    "#### The random demand, $D$"
   ]
  },
  {
   "cell_type": "markdown",
   "metadata": {},
   "source": [
    "The demand, $D$, is a random variable. Given the sample of historical data Airline$\\_$Demand.csv, we generate the empirical frequency distribution, and so the empirical cumulative distribution:\n",
    "We will use this distribution to generate random demands. \n",
    "\n",
    "\n",
    "For example, if a random number is generated from the standard continuous uniform distribution, which is equal to 0. 2351, falling  in the interval (0.1067, 0.2587], the the random demand is 50.\n"
   ]
  },
  {
   "cell_type": "code",
   "execution_count": 4,
   "metadata": {
    "colab": {
     "base_uri": "https://localhost:8080/",
     "height": 269
    },
    "executionInfo": {
     "elapsed": 12,
     "status": "ok",
     "timestamp": 1665147123111,
     "user": {
      "displayName": "Ruwen Qin",
      "userId": "01885423067234457717"
     },
     "user_tz": 240
    },
    "id": "JbUaakTfyTEJ",
    "outputId": "a273eebd-cc31-4fe6-ae1e-e93b2a0c66b6"
   },
   "outputs": [
    {
     "data": {
      "text/html": [
       "<div>\n",
       "<style scoped>\n",
       "    .dataframe tbody tr th:only-of-type {\n",
       "        vertical-align: middle;\n",
       "    }\n",
       "\n",
       "    .dataframe tbody tr th {\n",
       "        vertical-align: top;\n",
       "    }\n",
       "\n",
       "    .dataframe thead th {\n",
       "        text-align: right;\n",
       "    }\n",
       "</style>\n",
       "<table border=\"1\" class=\"dataframe\">\n",
       "  <thead>\n",
       "    <tr style=\"text-align: right;\">\n",
       "      <th></th>\n",
       "      <th>Demand</th>\n",
       "      <th>Prob_Dist</th>\n",
       "      <th>Cum_Dist</th>\n",
       "    </tr>\n",
       "  </thead>\n",
       "  <tbody>\n",
       "    <tr>\n",
       "      <th>0</th>\n",
       "      <td>48</td>\n",
       "      <td>0.062667</td>\n",
       "      <td>0.062667</td>\n",
       "    </tr>\n",
       "    <tr>\n",
       "      <th>1</th>\n",
       "      <td>49</td>\n",
       "      <td>0.044000</td>\n",
       "      <td>0.106667</td>\n",
       "    </tr>\n",
       "    <tr>\n",
       "      <th>2</th>\n",
       "      <td>50</td>\n",
       "      <td>0.152000</td>\n",
       "      <td>0.258667</td>\n",
       "    </tr>\n",
       "    <tr>\n",
       "      <th>3</th>\n",
       "      <td>51</td>\n",
       "      <td>0.316667</td>\n",
       "      <td>0.575333</td>\n",
       "    </tr>\n",
       "    <tr>\n",
       "      <th>4</th>\n",
       "      <td>52</td>\n",
       "      <td>0.250000</td>\n",
       "      <td>0.825333</td>\n",
       "    </tr>\n",
       "    <tr>\n",
       "      <th>5</th>\n",
       "      <td>53</td>\n",
       "      <td>0.085333</td>\n",
       "      <td>0.910667</td>\n",
       "    </tr>\n",
       "    <tr>\n",
       "      <th>6</th>\n",
       "      <td>54</td>\n",
       "      <td>0.089333</td>\n",
       "      <td>1.000000</td>\n",
       "    </tr>\n",
       "  </tbody>\n",
       "</table>\n",
       "</div>"
      ],
      "text/plain": [
       "   Demand  Prob_Dist  Cum_Dist\n",
       "0      48   0.062667  0.062667\n",
       "1      49   0.044000  0.106667\n",
       "2      50   0.152000  0.258667\n",
       "3      51   0.316667  0.575333\n",
       "4      52   0.250000  0.825333\n",
       "5      53   0.085333  0.910667\n",
       "6      54   0.089333  1.000000"
      ]
     },
     "execution_count": 4,
     "metadata": {},
     "output_type": "execute_result"
    }
   ],
   "source": [
    "# use the demand data to model the distribution of demand\n",
    "Airline_Demand = pd.read_csv(\"Data/Airline_Demand.csv\")\n",
    "temp=Airline_Demand.Demand.value_counts(normalize=True,sort=False) # the relative frequency of demand\n",
    "D_model=pd.DataFrame(temp).reset_index().sort_values(by='Demand').reset_index(drop=True) # probability distribution\n",
    "D_model.columns=['Demand','Prob_Dist']\n",
    "D_model['Cum_Dist']=np.cumsum(D_model.Prob_Dist) # use cumsum() to find the cumulative distribution from the probability distribution\n",
    "D_model"
   ]
  },
  {
   "cell_type": "markdown",
   "metadata": {
    "id": "dE9bDm_U1W-O"
   },
   "source": [
    "### Simulation"
   ]
  },
  {
   "cell_type": "code",
   "execution_count": 5,
   "metadata": {
    "executionInfo": {
     "elapsed": 181,
     "status": "ok",
     "timestamp": 1665147126414,
     "user": {
      "displayName": "Ruwen Qin",
      "userId": "01885423067234457717"
     },
     "user_tz": 240
    },
    "id": "dJetW7V71glX"
   },
   "outputs": [],
   "source": [
    "## let's define model parameters that are deterministic\n",
    "\n",
    "# Total number of trials for MC simulation\n",
    "N = 1000\n",
    "\n",
    "# Seats (capacity of the airplane, which is a parameter of system)\n",
    "C = 50\n",
    "\n",
    "# Choices of the reservation limit. 52 and 54 are cases of overbooking\n",
    "L = [50, 52, 54] \n",
    "\n",
    "# Marginal profit of each reservation, which is a parameter\n",
    "r = 150\n",
    "\n",
    "# Penalty for compensating each overbooked passenger, which is a parameter\n",
    "c = 500"
   ]
  },
  {
   "cell_type": "code",
   "execution_count": 6,
   "metadata": {
    "executionInfo": {
     "elapsed": 28,
     "status": "ok",
     "timestamp": 1665147126415,
     "user": {
      "displayName": "Ruwen Qin",
      "userId": "01885423067234457717"
     },
     "user_tz": 240
    },
    "id": "oyFWKba-o-I-"
   },
   "outputs": [
    {
     "data": {
      "text/html": [
       "<div>\n",
       "<style scoped>\n",
       "    .dataframe tbody tr th:only-of-type {\n",
       "        vertical-align: middle;\n",
       "    }\n",
       "\n",
       "    .dataframe tbody tr th {\n",
       "        vertical-align: top;\n",
       "    }\n",
       "\n",
       "    .dataframe thead th {\n",
       "        text-align: right;\n",
       "    }\n",
       "</style>\n",
       "<table border=\"1\" class=\"dataframe\">\n",
       "  <thead>\n",
       "    <tr style=\"text-align: right;\">\n",
       "      <th></th>\n",
       "      <th>Demand</th>\n",
       "      <th>Reservations</th>\n",
       "      <th>Showup</th>\n",
       "      <th>Overbooked</th>\n",
       "      <th>Profit</th>\n",
       "    </tr>\n",
       "  </thead>\n",
       "  <tbody>\n",
       "    <tr>\n",
       "      <th>0</th>\n",
       "      <td>51</td>\n",
       "      <td>50</td>\n",
       "      <td>48</td>\n",
       "      <td>0</td>\n",
       "      <td>7500</td>\n",
       "    </tr>\n",
       "    <tr>\n",
       "      <th>1</th>\n",
       "      <td>51</td>\n",
       "      <td>50</td>\n",
       "      <td>46</td>\n",
       "      <td>0</td>\n",
       "      <td>7500</td>\n",
       "    </tr>\n",
       "    <tr>\n",
       "      <th>2</th>\n",
       "      <td>51</td>\n",
       "      <td>50</td>\n",
       "      <td>48</td>\n",
       "      <td>0</td>\n",
       "      <td>7500</td>\n",
       "    </tr>\n",
       "    <tr>\n",
       "      <th>3</th>\n",
       "      <td>51</td>\n",
       "      <td>50</td>\n",
       "      <td>49</td>\n",
       "      <td>0</td>\n",
       "      <td>7500</td>\n",
       "    </tr>\n",
       "    <tr>\n",
       "      <th>4</th>\n",
       "      <td>53</td>\n",
       "      <td>50</td>\n",
       "      <td>47</td>\n",
       "      <td>0</td>\n",
       "      <td>7500</td>\n",
       "    </tr>\n",
       "    <tr>\n",
       "      <th>...</th>\n",
       "      <td>...</td>\n",
       "      <td>...</td>\n",
       "      <td>...</td>\n",
       "      <td>...</td>\n",
       "      <td>...</td>\n",
       "    </tr>\n",
       "    <tr>\n",
       "      <th>995</th>\n",
       "      <td>52</td>\n",
       "      <td>50</td>\n",
       "      <td>49</td>\n",
       "      <td>0</td>\n",
       "      <td>7500</td>\n",
       "    </tr>\n",
       "    <tr>\n",
       "      <th>996</th>\n",
       "      <td>50</td>\n",
       "      <td>50</td>\n",
       "      <td>45</td>\n",
       "      <td>0</td>\n",
       "      <td>7500</td>\n",
       "    </tr>\n",
       "    <tr>\n",
       "      <th>997</th>\n",
       "      <td>52</td>\n",
       "      <td>50</td>\n",
       "      <td>49</td>\n",
       "      <td>0</td>\n",
       "      <td>7500</td>\n",
       "    </tr>\n",
       "    <tr>\n",
       "      <th>998</th>\n",
       "      <td>52</td>\n",
       "      <td>50</td>\n",
       "      <td>46</td>\n",
       "      <td>0</td>\n",
       "      <td>7500</td>\n",
       "    </tr>\n",
       "    <tr>\n",
       "      <th>999</th>\n",
       "      <td>54</td>\n",
       "      <td>50</td>\n",
       "      <td>45</td>\n",
       "      <td>0</td>\n",
       "      <td>7500</td>\n",
       "    </tr>\n",
       "  </tbody>\n",
       "</table>\n",
       "<p>1000 rows × 5 columns</p>\n",
       "</div>"
      ],
      "text/plain": [
       "     Demand  Reservations  Showup  Overbooked  Profit\n",
       "0        51            50      48           0    7500\n",
       "1        51            50      46           0    7500\n",
       "2        51            50      48           0    7500\n",
       "3        51            50      49           0    7500\n",
       "4        53            50      47           0    7500\n",
       "..      ...           ...     ...         ...     ...\n",
       "995      52            50      49           0    7500\n",
       "996      50            50      45           0    7500\n",
       "997      52            50      49           0    7500\n",
       "998      52            50      46           0    7500\n",
       "999      54            50      45           0    7500\n",
       "\n",
       "[1000 rows x 5 columns]"
      ]
     },
     "execution_count": 6,
     "metadata": {},
     "output_type": "execute_result"
    }
   ],
   "source": [
    "## Simulate the revenue management system\n",
    "\n",
    "# Simulate random demand. np.random.choice() generates N random demand with replacement \n",
    "# from its space D_model.Demand according to the probability mass function D_model.Dist\n",
    "Demand_sim=np.random.choice(D_model.Demand, N, p=D_model.Prob_Dist)\n",
    "\n",
    "# Booked reservation by assuming the reservation limit is L[0]. \n",
    "# If you chance Reserve_Limit[0] to Reserve_Limit[1] or Reserve_Limit[2], you are changing the overbooking policy (control)\n",
    "Reserve_Booked = np.minimum(Demand_sim,L[0]) # if Demand_sim[i]>L[0], Reserve_Booked[i]=L[0]. Otherwise, Reserve_Booked[i]=Demand_sim[i]\n",
    "\n",
    "# Simulate the number of passengers who will show up. If the number of booking is Reserve_Booked and the show up rate is p, how many passengers show up?\n",
    "Passenger_ShowUp_sim=np.random.binomial(Reserve_Booked,p)\n",
    "\n",
    "# Overbooking quantity\n",
    "Overbooked=np.maximum(Passenger_ShowUp_sim-C,0)\n",
    "\n",
    "# Profit is the marginal profit from reservation minus the penalty of overbooking\n",
    "Profit=Reserve_Booked*r-Overbooked*c\n",
    "\n",
    "# Summary of the simulation results from the 1000 random experiments\n",
    "Reservation50_sim=pd.DataFrame({'Demand':Demand_sim, \n",
    "                                   'Reservations':Reserve_Booked, \n",
    "                                   'Showup': Passenger_ShowUp_sim, \n",
    "                                   'Overbooked': Overbooked, \n",
    "                                   'Profit': Profit}\n",
    "                                 )\n",
    "\n",
    "Reservation50_sim"
   ]
  },
  {
   "cell_type": "markdown",
   "metadata": {
    "id": "FNuxw6ZS8M_t"
   },
   "source": [
    "### Analyze the simulation result"
   ]
  },
  {
   "cell_type": "code",
   "execution_count": 7,
   "metadata": {
    "colab": {
     "base_uri": "https://localhost:8080/",
     "height": 337
    },
    "executionInfo": {
     "elapsed": 26,
     "status": "ok",
     "timestamp": 1665147126419,
     "user": {
      "displayName": "Ruwen Qin",
      "userId": "01885423067234457717"
     },
     "user_tz": 240
    },
    "id": "sGXvbt6XvWMi",
    "outputId": "d87428a6-3349-49b0-9683-d456a4253d85"
   },
   "outputs": [
    {
     "name": "stdout",
     "output_type": "stream",
     "text": [
      "The mean profit is: $7,470.3\n",
      "The standard deviation of the profit is: $82.0\n"
     ]
    },
    {
     "data": {
      "image/png": "[encoded data removed]",
      "text/plain": [
       "<Figure size 600x400 with 1 Axes>"
      ]
     },
     "metadata": {},
     "output_type": "display_data"
    }
   ],
   "source": [
    "# visualize the distribution of profit\n",
    "values,counts =np.unique(Profit,return_counts=True)\n",
    "\n",
    "print(f'The mean profit is: ${Profit.mean():,.1f}')\n",
    "\n",
    "print(f'The standard deviation of the profit is: ${Profit.std():,.1f}')\n",
    "\n",
    "plt.figure(figsize=(6, 4))\n",
    "sns.barplot(x=values, y=counts / sum(counts) * 100, color='grey')\n",
    "plt.xlabel('Profit ($)', fontsize=12)\n",
    "plt.ylabel('Probability (%)', fontsize=12)\n",
    "plt.show();"
   ]
  },
  {
   "cell_type": "markdown",
   "metadata": {
    "id": "Ux2q8Y9n9HYr"
   },
   "source": [
    "### Optimization of the Reservation Limit"
   ]
  },
  {
   "cell_type": "code",
   "execution_count": 8,
   "metadata": {},
   "outputs": [
    {
     "data": {
      "text/html": [
       "<div>\n",
       "<style scoped>\n",
       "    .dataframe tbody tr th:only-of-type {\n",
       "        vertical-align: middle;\n",
       "    }\n",
       "\n",
       "    .dataframe tbody tr th {\n",
       "        vertical-align: top;\n",
       "    }\n",
       "\n",
       "    .dataframe thead th {\n",
       "        text-align: right;\n",
       "    }\n",
       "</style>\n",
       "<table border=\"1\" class=\"dataframe\">\n",
       "  <thead>\n",
       "    <tr style=\"text-align: right;\">\n",
       "      <th></th>\n",
       "      <th>reservation_limit</th>\n",
       "      <th>profit_mean</th>\n",
       "      <th>profit_std</th>\n",
       "    </tr>\n",
       "  </thead>\n",
       "  <tbody>\n",
       "    <tr>\n",
       "      <th>0</th>\n",
       "      <td>50</td>\n",
       "      <td>7,470</td>\n",
       "      <td>82</td>\n",
       "    </tr>\n",
       "    <tr>\n",
       "      <th>1</th>\n",
       "      <td>52</td>\n",
       "      <td>7,535</td>\n",
       "      <td>257</td>\n",
       "    </tr>\n",
       "    <tr>\n",
       "      <th>2</th>\n",
       "      <td>54</td>\n",
       "      <td>7,493</td>\n",
       "      <td>319</td>\n",
       "    </tr>\n",
       "  </tbody>\n",
       "</table>\n",
       "</div>"
      ],
      "text/plain": [
       "  reservation_limit profit_mean profit_std\n",
       "0                50       7,470         82\n",
       "1                52       7,535        257\n",
       "2                54       7,493        319"
      ]
     },
     "execution_count": 8,
     "metadata": {},
     "output_type": "execute_result"
    }
   ],
   "source": [
    "# Find the sample mean and sample standard deviation of profit at each reservation limit\n",
    "Profit_comp = pd.DataFrame(index=range(0,3),columns=[\"reservation_limit\",\"profit_mean\",\"profit_std\"])\n",
    "\n",
    "for i, resv_limit in enumerate(L):\n",
    "    Reserve_Booked = np.minimum(Demand_sim,resv_limit)\n",
    "    Passenger_ShowUp_sim=np.random.binomial(Reserve_Booked,p)\n",
    "    Overbooked=np.maximum(Passenger_ShowUp_sim-C,0)\n",
    "    Profit=Reserve_Booked*r-Overbooked*c\n",
    "    Profit_comp.iloc[i,]=[resv_limit, Profit.mean(), Profit.std()]\n",
    "\n",
    "Profit_comp.map('{:,.0f}'.format)"
   ]
  },
  {
   "cell_type": "code",
   "execution_count": 9,
   "metadata": {
    "colab": {
     "base_uri": "https://localhost:8080/",
     "height": 143
    },
    "executionInfo": {
     "elapsed": 16,
     "status": "ok",
     "timestamp": 1665147126586,
     "user": {
      "displayName": "Ruwen Qin",
      "userId": "01885423067234457717"
     },
     "user_tz": 240
    },
    "id": "yt5eYW_W98mA",
    "outputId": "4b23995d-7fda-4632-df26-4b6b4470e6aa"
   },
   "outputs": [
    {
     "data": {
      "text/html": [
       "<div>\n",
       "<style scoped>\n",
       "    .dataframe tbody tr th:only-of-type {\n",
       "        vertical-align: middle;\n",
       "    }\n",
       "\n",
       "    .dataframe tbody tr th {\n",
       "        vertical-align: top;\n",
       "    }\n",
       "\n",
       "    .dataframe thead th {\n",
       "        text-align: right;\n",
       "    }\n",
       "</style>\n",
       "<table border=\"1\" class=\"dataframe\">\n",
       "  <thead>\n",
       "    <tr style=\"text-align: right;\">\n",
       "      <th></th>\n",
       "      <th>reservation_limit</th>\n",
       "      <th>profit_mean</th>\n",
       "      <th>profit_std</th>\n",
       "      <th>profit_me</th>\n",
       "      <th>LB_95CI</th>\n",
       "      <th>UB_95CI</th>\n",
       "    </tr>\n",
       "  </thead>\n",
       "  <tbody>\n",
       "    <tr>\n",
       "      <th>0</th>\n",
       "      <td>50.00</td>\n",
       "      <td>7,470.30</td>\n",
       "      <td>81.99</td>\n",
       "      <td>5.09</td>\n",
       "      <td>7,465.21</td>\n",
       "      <td>7,475.39</td>\n",
       "    </tr>\n",
       "    <tr>\n",
       "      <th>1</th>\n",
       "      <td>52.00</td>\n",
       "      <td>7,535.05</td>\n",
       "      <td>257.27</td>\n",
       "      <td>15.96</td>\n",
       "      <td>7,519.09</td>\n",
       "      <td>7,551.01</td>\n",
       "    </tr>\n",
       "    <tr>\n",
       "      <th>2</th>\n",
       "      <td>54.00</td>\n",
       "      <td>7,493.35</td>\n",
       "      <td>319.00</td>\n",
       "      <td>19.80</td>\n",
       "      <td>7,473.55</td>\n",
       "      <td>7,513.15</td>\n",
       "    </tr>\n",
       "  </tbody>\n",
       "</table>\n",
       "</div>"
      ],
      "text/plain": [
       "  reservation_limit profit_mean profit_std profit_me   LB_95CI   UB_95CI\n",
       "0             50.00    7,470.30      81.99      5.09  7,465.21  7,475.39\n",
       "1             52.00    7,535.05     257.27     15.96  7,519.09  7,551.01\n",
       "2             54.00    7,493.35     319.00     19.80  7,473.55  7,513.15"
      ]
     },
     "execution_count": 9,
     "metadata": {},
     "output_type": "execute_result"
    }
   ],
   "source": [
    "# calculate the 95% confidence interval of profit for at each reservation limit\n",
    "\n",
    "from scipy.stats import t\n",
    "alpha=0.05\n",
    "df = N-1\n",
    "t_stat = t(df).ppf(1-alpha/2)\n",
    "\n",
    "Profit_comp['profit_me']=Profit_comp.profit_std/np.sqrt(N)*t_stat # find the margin of error\n",
    "Profit_comp['LB_95CI']=Profit_comp.profit_mean-Profit_comp.profit_me # lower boundary of 95% CI\n",
    "Profit_comp['UB_95CI']=Profit_comp.profit_mean+Profit_comp.profit_me # upper boundary of 95% CI\n",
    "Profit_comp.map('{:,.2f}'.format)"
   ]
  },
  {
   "cell_type": "markdown",
   "metadata": {
    "id": "dgEUgZ0tBqc9"
   },
   "source": [
    "The 95\\% confidence interval of the profit at reservation limit 52 is higher than at other two limits. Therefore, the optimal reservation limit is 52."
   ]
  }
 ],
 "metadata": {
  "colab": {
   "authorship_tag": "ABX9TyMVZKv+YwU3MkHar2eN/Rig",
   "mount_file_id": "1Wxk0fhWhdyCP2__RkfGpLFOHXuR7PAi7",
   "provenance": [],
   "toc_visible": true
  },
  "kernelspec": {
   "display_name": "Python 3 (ipykernel)",
   "language": "python",
   "name": "python3"
  },
  "language_info": {
   "codemirror_mode": {
    "name": "ipython",
    "version": 3
   },
   "file_extension": ".py",
   "mimetype": "text/x-python",
   "name": "python",
   "nbconvert_exporter": "python",
   "pygments_lexer": "ipython3",
   "version": "3.9.23"
  },
  "toc": {
   "base_numbering": 1,
   "nav_menu": {},
   "number_sections": false,
   "sideBar": true,
   "skip_h1_title": false,
   "title_cell": "Table of Contents",
   "title_sidebar": "Contents",
   "toc_cell": false,
   "toc_position": {
    "height": "calc(100% - 180px)",
    "left": "10px",
    "top": "150px",
    "width": "320px"
   },
   "toc_section_display": true,
   "toc_window_display": true
  },
  "varInspector": {
   "cols": {
    "lenName": 16,
    "lenType": 16,
    "lenVar": 40
   },
   "kernels_config": {
    "python": {
     "delete_cmd_postfix": "",
     "delete_cmd_prefix": "del ",
     "library": "var_list.py",
     "varRefreshCmd": "print(var_dic_list())"
    },
    "r": {
     "delete_cmd_postfix": ") ",
     "delete_cmd_prefix": "rm(",
     "library": "var_list.r",
     "varRefreshCmd": "cat(var_dic_list()) "
    }
   },
   "types_to_exclude": [
    "module",
    "function",
    "builtin_function_or_method",
    "instance",
    "_Feature"
   ],
   "window_display": false
  }
 },
 "nbformat": 4,
 "nbformat_minor": 4
}
