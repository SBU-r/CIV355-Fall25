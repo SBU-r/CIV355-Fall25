{
 "cells": [
  {
   "cell_type": "markdown",
   "metadata": {},
   "source": [
    "# Hypothesis Testing"
   ]
  },
  {
   "cell_type": "markdown",
   "metadata": {},
   "source": [
    "**If you are a Colab user**"
   ]
  },
  {
   "cell_type": "markdown",
   "metadata": {},
   "source": [
    "If you use Google Colab, you can uncomment the following cell to mount your Google Drive to Colab. <br>\n",
    "After that, Colab can read/write files and data in your Google Drive <br>\n",
    "\n",
    "please change the current directory to be the folder that you save your Notebook and <br>\n",
    "data folder. For example, I save my Colab files and data in the following location"
   ]
  },
  {
   "cell_type": "code",
   "execution_count": 1,
   "metadata": {},
   "outputs": [],
   "source": [
    "#from google.colab import drive\n",
    "#drive.mount('/content/drive')\n",
    "\n",
    "#%cd /content/drive/MyDrive/Colab\\ Notebooks"
   ]
  },
  {
   "cell_type": "markdown",
   "metadata": {},
   "source": [
    "**Install new libraries**"
   ]
  },
  {
   "cell_type": "markdown",
   "metadata": {
    "executionInfo": {
     "elapsed": 6,
     "status": "ok",
     "timestamp": 1695345645173,
     "user": {
      "displayName": "Ruwen Qin",
      "userId": "01885423067234457717"
     },
     "user_tz": 240
    },
    "id": "mzQ2ZzDcndpm"
   },
   "source": [
    "You can run the following code in terminal or conda prompt or uncomment the next cell and direcdtly run the code in this notebook\n",
    "\n",
    "*conda install statsmodels*\n"
   ]
  },
  {
   "cell_type": "markdown",
   "metadata": {},
   "source": [
    "So far, we have installed\n",
    "\n",
    "jupyter notebook\n",
    "numpy\n",
    "pandas\n",
    "matplotlib\n",
    "seaborn\n",
    "plotly\n",
    "scipy\n",
    "openpyxl\n",
    "geopandas\n",
    "contextily\n",
    "statsmodels"
   ]
  },
  {
   "cell_type": "code",
   "execution_count": 2,
   "metadata": {},
   "outputs": [],
   "source": [
    "#!pip3 install statsmodels"
   ]
  },
  {
   "cell_type": "markdown",
   "metadata": {},
   "source": [
    "**Set up standards for the remainder of the notebook**"
   ]
  },
  {
   "cell_type": "code",
   "execution_count": 3,
   "metadata": {
    "executionInfo": {
     "elapsed": 1286,
     "status": "ok",
     "timestamp": 1695345662301,
     "user": {
      "displayName": "Ruwen Qin",
      "userId": "01885423067234457717"
     },
     "user_tz": 240
    },
    "id": "ttBpS4BdB-2V"
   },
   "outputs": [],
   "source": [
    "# import libraries and modules to be used\n",
    "import numpy as np \n",
    "np.set_printoptions(precision=4, suppress=True)\n",
    "np.random.seed(12345)\n",
    "\n",
    "import pandas as pd\n",
    "\n",
    "import matplotlib.pyplot as plt\n",
    "import seaborn as sns\n",
    "\n",
    "import scipy as sp\n",
    "from scipy import stats # we'll use the stats module of scipy\n",
    "\n",
    "import statsmodels as sm\n",
    "from statsmodels.stats import proportion # we will use it for z tests\n",
    "\n",
    "# to display multiple outputs in one cell\n",
    "from IPython.core.interactiveshell import InteractiveShell\n",
    "InteractiveShell.ast_node_interactivity = \"all\""
   ]
  },
  {
   "cell_type": "markdown",
   "metadata": {},
   "source": [
    "## Import and Review California Housing Data\n",
    "\n",
    "CA_housing.csv dataset pertains to the houses found in a given California\n",
    "district and some summary stats about them based on the year 1990 census data.\n",
    "The dataset contains 20,640 observations and 10 columns\n",
    "\n",
    "Below is a list of the 9 attributes (X) with their discription\n",
    "\n",
    "  --Longitude: block group longitude\\\n",
    "  --Latitude block group latitude\\\n",
    "  --HouseAge: median house age in block group\\\n",
    "  --AveRooms: average number of rooms per household\\\n",
    "  --AveBedrms: average number of bedrooms per household\\\n",
    "  --Population: block group population\\\n",
    "  --AveOccup: average number of household members\\\n",
    "  --MedInc: Median income for households within a block\\\n",
    "  --OceanProx: Location of the house w.r.t ocean/sea\n",
    "\n",
    "The target (y) is:\\\n",
    "--MedVal: Median house value for households within a block\n"
   ]
  },
  {
   "cell_type": "code",
   "execution_count": 4,
   "metadata": {
    "colab": {
     "base_uri": "https://localhost:8080/",
     "height": 206
    },
    "executionInfo": {
     "elapsed": 466,
     "status": "ok",
     "timestamp": 1695345662764,
     "user": {
      "displayName": "Ruwen Qin",
      "userId": "01885423067234457717"
     },
     "user_tz": 240
    },
    "id": "jmjKqWYxIbaW",
    "outputId": "315b69d3-5bf8-41ca-ce84-640de57f1984"
   },
   "outputs": [
    {
     "data": {
      "text/html": [
       "<div>\n",
       "<style scoped>\n",
       "    .dataframe tbody tr th:only-of-type {\n",
       "        vertical-align: middle;\n",
       "    }\n",
       "\n",
       "    .dataframe tbody tr th {\n",
       "        vertical-align: top;\n",
       "    }\n",
       "\n",
       "    .dataframe thead th {\n",
       "        text-align: right;\n",
       "    }\n",
       "</style>\n",
       "<table border=\"1\" class=\"dataframe\">\n",
       "  <thead>\n",
       "    <tr style=\"text-align: right;\">\n",
       "      <th></th>\n",
       "      <th>MedInc</th>\n",
       "      <th>HouseAge</th>\n",
       "      <th>AveRooms</th>\n",
       "      <th>AveBedrms</th>\n",
       "      <th>Population</th>\n",
       "      <th>AveOccup</th>\n",
       "      <th>Latitude</th>\n",
       "      <th>Longitude</th>\n",
       "      <th>OceanProx</th>\n",
       "      <th>MedVal</th>\n",
       "    </tr>\n",
       "  </thead>\n",
       "  <tbody>\n",
       "    <tr>\n",
       "      <th>0</th>\n",
       "      <td>8.3252</td>\n",
       "      <td>41.0</td>\n",
       "      <td>6.984127</td>\n",
       "      <td>1.023810</td>\n",
       "      <td>322.0</td>\n",
       "      <td>2.555556</td>\n",
       "      <td>37.88</td>\n",
       "      <td>-122.23</td>\n",
       "      <td>NEAR BAY</td>\n",
       "      <td>452600.0</td>\n",
       "    </tr>\n",
       "    <tr>\n",
       "      <th>1</th>\n",
       "      <td>8.3014</td>\n",
       "      <td>21.0</td>\n",
       "      <td>6.238137</td>\n",
       "      <td>0.971880</td>\n",
       "      <td>2401.0</td>\n",
       "      <td>2.109842</td>\n",
       "      <td>37.86</td>\n",
       "      <td>-122.22</td>\n",
       "      <td>NEAR BAY</td>\n",
       "      <td>358500.0</td>\n",
       "    </tr>\n",
       "    <tr>\n",
       "      <th>2</th>\n",
       "      <td>7.2574</td>\n",
       "      <td>52.0</td>\n",
       "      <td>8.288136</td>\n",
       "      <td>1.073446</td>\n",
       "      <td>496.0</td>\n",
       "      <td>2.802260</td>\n",
       "      <td>37.85</td>\n",
       "      <td>-122.24</td>\n",
       "      <td>NEAR BAY</td>\n",
       "      <td>352100.0</td>\n",
       "    </tr>\n",
       "    <tr>\n",
       "      <th>3</th>\n",
       "      <td>5.6431</td>\n",
       "      <td>52.0</td>\n",
       "      <td>5.817352</td>\n",
       "      <td>1.073059</td>\n",
       "      <td>558.0</td>\n",
       "      <td>2.547945</td>\n",
       "      <td>37.85</td>\n",
       "      <td>-122.25</td>\n",
       "      <td>NEAR BAY</td>\n",
       "      <td>341300.0</td>\n",
       "    </tr>\n",
       "    <tr>\n",
       "      <th>4</th>\n",
       "      <td>3.8462</td>\n",
       "      <td>52.0</td>\n",
       "      <td>6.281853</td>\n",
       "      <td>1.081081</td>\n",
       "      <td>565.0</td>\n",
       "      <td>2.181467</td>\n",
       "      <td>37.85</td>\n",
       "      <td>-122.25</td>\n",
       "      <td>NEAR BAY</td>\n",
       "      <td>342200.0</td>\n",
       "    </tr>\n",
       "  </tbody>\n",
       "</table>\n",
       "</div>"
      ],
      "text/plain": [
       "   MedInc  HouseAge  AveRooms  AveBedrms  Population  AveOccup  Latitude  \\\n",
       "0  8.3252      41.0  6.984127   1.023810       322.0  2.555556     37.88   \n",
       "1  8.3014      21.0  6.238137   0.971880      2401.0  2.109842     37.86   \n",
       "2  7.2574      52.0  8.288136   1.073446       496.0  2.802260     37.85   \n",
       "3  5.6431      52.0  5.817352   1.073059       558.0  2.547945     37.85   \n",
       "4  3.8462      52.0  6.281853   1.081081       565.0  2.181467     37.85   \n",
       "\n",
       "   Longitude OceanProx    MedVal  \n",
       "0    -122.23  NEAR BAY  452600.0  \n",
       "1    -122.22  NEAR BAY  358500.0  \n",
       "2    -122.24  NEAR BAY  352100.0  \n",
       "3    -122.25  NEAR BAY  341300.0  \n",
       "4    -122.25  NEAR BAY  342200.0  "
      ]
     },
     "execution_count": 4,
     "metadata": {},
     "output_type": "execute_result"
    },
    {
     "name": "stdout",
     "output_type": "stream",
     "text": [
      "<class 'pandas.core.frame.DataFrame'>\n",
      "RangeIndex: 20640 entries, 0 to 20639\n",
      "Data columns (total 10 columns):\n",
      " #   Column      Non-Null Count  Dtype  \n",
      "---  ------      --------------  -----  \n",
      " 0   MedInc      20640 non-null  float64\n",
      " 1   HouseAge    20640 non-null  float64\n",
      " 2   AveRooms    20640 non-null  float64\n",
      " 3   AveBedrms   20640 non-null  float64\n",
      " 4   Population  20640 non-null  float64\n",
      " 5   AveOccup    20640 non-null  float64\n",
      " 6   Latitude    20640 non-null  float64\n",
      " 7   Longitude   20640 non-null  float64\n",
      " 8   OceanProx   20640 non-null  object \n",
      " 9   MedVal      20640 non-null  float64\n",
      "dtypes: float64(9), object(1)\n",
      "memory usage: 1.6+ MB\n"
     ]
    }
   ],
   "source": [
    "# read the Housing dataset and be familar with data types\n",
    "CA_housing=pd.read_csv(\"Data/CA_housing.csv\")\n",
    "CA_housing.head()\n",
    "CA_housing.info()\n"
   ]
  },
  {
   "cell_type": "code",
   "execution_count": 5,
   "metadata": {},
   "outputs": [],
   "source": [
    "# change 'OceanProx' to ordered categorical variable\n",
    "ordered_categories = ['INLAND', 'NEAR BAY', '<1H OCEAN', 'NEAR OCEAN', 'ISLAND']\n",
    "CA_housing['OceanProx'] = pd.Categorical(CA_housing['OceanProx'], \n",
    "                                         categories=ordered_categories, \n",
    "                                         ordered=True\n",
    "                                        )"
   ]
  },
  {
   "cell_type": "markdown",
   "metadata": {},
   "source": [
    "## Hypothesis Testing Foundation"
   ]
  },
  {
   "cell_type": "markdown",
   "metadata": {},
   "source": [
    "**Hypothesis**\n",
    "\n",
    "A tentative conjecture is called the *null hypothesis*. The opposite of what is stated in the null hypothesis is the *alternative hypothesis*. The hypothesis testing procedure uses a sample of data to test the validity of the two competing statements about a population.\n",
    "\n",
    "**Steps of Hypothesis Testing**\n",
    "1. Develop the null and alternative hypotheses\n",
    "2. Specify the level of significance, $\\alpha$\n",
    "3. Collect the sample data and compute the value of the test statistic\n",
    "4. Use the value of the test statistic to compute the $p$ value\n",
    "5. Draw a decision on the null hypothesis\n",
    "6. Interpret the statistical conclusion in the context of the application"
   ]
  },
  {
   "cell_type": "markdown",
   "metadata": {
    "id": "xFafGARNg4OS"
   },
   "source": [
    "## One-sample t test"
   ]
  },
  {
   "cell_type": "markdown",
   "metadata": {},
   "source": [
    "The one-sample t test is often used to test a hypothesis on $\\mu$, the mean of a distribution $F$.  Let $\\mu_0$ be the hypothesized value of mean, and $\\alpha$ be the level of significance in hypothesis testing.  Let's draw a random sample, $x_1,\\dots,x_n$,  from the distribution $F$.  We use this sample to test the hypothesis on the population mean.\n",
    "\n",
    "The table below summarizes three types of one-sample t test. \n",
    "\n",
    "**Table 1: Hypothesis for one-sample t-test**\n",
    "$$\n",
    "\\begin{array}{l|c|c|c}\n",
    " & \\text{lower-tail test} & \\text{upper-tail test} & \\text{two-tail test} \\\\\n",
    "\\hline\n",
    "\\text{Null hypothesis } H_0 & \\mu \\geq \\mu_0 & \\mu \\leq \\mu_0 & \\mu = \\mu_0 \\\\\n",
    "\\text{Alternative hypothesis } H_1 & \\mu < \\mu_0 & \\mu > \\mu_0 & \\mu \\neq \\mu_0 \\\\\n",
    "p\\text{-value} & P(X \\leq t) & P(X > t) & P(X \\geq |t|) \\\\\n",
    "\\hline\n",
    "\\end{array}\n",
    "$$\n",
    "\n",
    "The test statistic, t, is\n",
    "\\begin{equation}\n",
    "t=\\frac{\\bar{x}-\\mu_0}{s/\\sqrt{n}}. \\tag{1}\n",
    "\\end{equation}\n",
    "\n",
    "p value represents the probability that we mistakely reject the null hypothesis. If p value is less than $\\alpha$, that probabability is small so that we can safely reject the hull hypothesis."
   ]
  },
  {
   "cell_type": "markdown",
   "metadata": {},
   "source": [
    "Let's test on $\\mu$, the mean value of log(MedVal)\n",
    "\n",
    "If the hypothesized mean of `log(MedVAL)' of a survey block is 14, can you generate a random sample of size 1,000 and use the sample to perform the lower-tailed test, upper-tailed test, and two-tail tested, respectively? \n",
    "\n",
    "\n",
    "H0: $\\mu$ = 14\\\n",
    "Ha: $\\mu$ !=14, or < 14 or >14, depending on the belief or the conjecture that you have about this parameter\n",
    "\n",
    "we use **ttest_1samp(sample, hypothesized value, alternative=)** in scipy.stats to perform 1-sample t test. alternative = 'less' if it is a lower-tail test, 'greater' for upper-tail test, and 'two-sided' for two-tail test"
   ]
  },
  {
   "cell_type": "code",
   "execution_count": 6,
   "metadata": {
    "code_folding": [],
    "colab": {
     "base_uri": "https://localhost:8080/"
    },
    "executionInfo": {
     "elapsed": 20,
     "status": "ok",
     "timestamp": 1695345669084,
     "user": {
      "displayName": "Ruwen Qin",
      "userId": "01885423067234457717"
     },
     "user_tz": 240
    },
    "id": "Z6jyNulzGb6R",
    "outputId": "d06e0748-2ac6-410b-b069-5b932b0c97ca"
   },
   "outputs": [
    {
     "name": "stdout",
     "output_type": "stream",
     "text": [
      "The sample mean is 12.10\n",
      "The sample standard deviation is 0.577 \n",
      "\n",
      "lower-tail test:\n",
      "test statistic is -103.947 and the p value is 0.000\n",
      "Reject the null hypothesis at the level of significance 0.05 \n",
      "\n",
      "upper-tail test:\n",
      "test statistic is -103.947 and the p value is 1.000\n",
      "Fail to reject the null hypothesis at the level of significance 0.05 \n",
      "\n",
      "two-tail test:\n",
      "test statistic is -103.947 and the p value is 0.000\n",
      "Reject the null hypothesis at the level of significance 0.05 \n",
      "\n"
     ]
    }
   ],
   "source": [
    "# sp.stats.ttest_1samp(sample, hypothesized value, alternative) performs the 1 sample t test\n",
    "\n",
    "alpha =0.05 # level of significance\n",
    "n=1000 # sample size\n",
    "mu_0 = 14 #hypothesized value of mean\n",
    "\n",
    "sample_ppl = np.log(CA_housing.MedVal.sample(n)) # a random sample of size n\n",
    "print(f'The sample mean is {sample_ppl.mean():.2f}')\n",
    "print(f'The sample standard deviation is {sample_ppl.std(ddof=1):.3f}','\\n')\n",
    "\n",
    "# lower-tail test (alternative: mu < mu_0)\n",
    "t_stat, p_value = sp.stats.ttest_1samp(sample_ppl, mu_0, alternative='less')\n",
    "print('lower-tail test:')\n",
    "print(f'test statistic is {t_stat:.3f} and the p value is {p_value:.3f}')\n",
    "if p_value > alpha:\n",
    "   print (f'Fail to reject the null hypothesis at the level of significance {alpha}','\\n')\n",
    "else:\n",
    "   print (f'Reject the null hypothesis at the level of significance {alpha}','\\n')\n",
    "\n",
    "# upper-tail test (alternative: mu>mu_0)\n",
    "t_stat, p_value = sp.stats.ttest_1samp(sample_ppl, mu_0, alternative='greater')\n",
    "print('upper-tail test:')\n",
    "print(f'test statistic is {t_stat:.3f} and the p value is {p_value:.3f}')\n",
    "if p_value > alpha:\n",
    "   print (f'Fail to reject the null hypothesis at the level of significance {alpha}','\\n')\n",
    "else:\n",
    "   print (f'Reject the null hypothesis at the level of significance {alpha}','\\n')\n",
    "\n",
    "# two-tail test (alternative hypothesis: mu!=mu_0)\n",
    "t_stat, p_value = sp.stats.ttest_1samp(sample_ppl, mu_0, alternative='two-sided')\n",
    "print('two-tail test:')\n",
    "print(f'test statistic is {t_stat:.3f} and the p value is {p_value:.3f}')\n",
    "if p_value > alpha:\n",
    "   print (f'Fail to reject the null hypothesis at the level of significance {alpha}','\\n')\n",
    "else:\n",
    "   print (f'Reject the null hypothesis at the level of significance {alpha}','\\n')\n"
   ]
  },
  {
   "cell_type": "markdown",
   "metadata": {},
   "source": [
    "## One-way ANOVA Test / F test"
   ]
  },
  {
   "cell_type": "markdown",
   "metadata": {},
   "source": [
    "The one-way ANOVA test (named F test as well) tests the null hypothesis that two or more distributions have the same mean.  The test is applied to samples from each of the distributions, possibly with different sizes.\n",
    "\n",
    "Suppose there are $m$ distributions whose mean values are $\\mu_i$, for $i=1,\\dots,m$. The hypotheses of the one-way ANOVA test are:\n",
    "\n",
    "H0: $\\mu_1=\\cdots\\mu_m$\n",
    "\n",
    "Ha: $\\exists\\; \\mu_i\\neq\\mu_j$, for $i, j \\in\\{1,\\dots,m\\}$\n",
    "\n",
    "We often perform the one-way ANOVA test first. If it turned out we reject the null hypothesis, we can continue to perform the two-sample t test to further determine the relationship between the means of any pair of distributions.\n",
    "\n",
    "Assuming  a random sample is drawn from each of the $m$ distributions.\n",
    "$n_j$, $\\overline{x}_j$, and $s_j$ are the sample size, sample mean, and sample standard deviation pertaining to distribution $j$, for $j=1,\\dots,m$. Let $\\overline{x}$ be the overall mean:\n",
    "\\begin{equation}\n",
    "\\overline{x}=\\frac{\\sum_{j=1}^m \\overline{x}_j n_j}{\\sum_{j=1}^m n_j}. \\tag{2}\n",
    "\\end{equation}\n",
    "The test statistic $F$ is\n",
    "\\begin{equation}\n",
    "F=\\frac{\\text{between-group mean squares}}{\\text{Within-group mean squares}}=\\frac{\\sum_{j=1}^m (\\overline{x}_j-\\overline{x})^2 n_j\\left/(m-1)\\right.}{\\sum_{j=1}^m s_j^2(n_j-1)\\left/(\\sum_{j=1}^m n_j-m)\\right.} \\tag{3}\n",
    "\\end{equation}\n",
    "The corresponding $p$ value is the probability that a random value drawn from the F distribution with $(m-1)$ and $(\\sum_{j=1}^m n_j-m)$ degrees of freedom is grater than the test statistic F.\n",
    "\n"
   ]
  },
  {
   "cell_type": "markdown",
   "metadata": {},
   "source": [
    "Does the mean of log(MedVal) for houses in a block vary with the block's proximity to the ocean? If we split blocks by their proximity to ocean, there are five groups. Can you generate a random sample of size 1,000 from each group and then use the samples to test if the mean value of log(MedVal) in a block varies by its proximity to ocean? \n",
    "\n",
    "H0: $\n",
    "\\mu_\\text{<1H OCEAN} = \\mu_\\text{NEAR BAY} = \\mu_\\text{INLAND} = \\mu_\\text{NEAR OCEAN}\n",
    "$\n",
    "\n",
    "Ha:\n",
    "$\n",
    "\\mu_i \\neq \\mu_j \\quad \\text{for any } i, j \\in \\{\\text{<1H OCEAN}, \\text{NEAR BAY}, \\text{NEAR OCEAN}, \\text{INLAND}\\}\n",
    "$\n",
    "\n",
    "**f_oneway(smp1, smp2,...)** in scipy.stats"
   ]
  },
  {
   "cell_type": "code",
   "execution_count": 7,
   "metadata": {},
   "outputs": [
    {
     "name": "stdout",
     "output_type": "stream",
     "text": [
      "One-way ANOVA test:\n",
      "The test statistic is 524.685 and the p value is 0.000\n",
      "Reject the null hypothesis at the level of significance 0.05 \n",
      "\n"
     ]
    }
   ],
   "source": [
    "alpha =0.05 # level of significance\n",
    "n=1000 # sample size\n",
    "\n",
    "# sample 1000 MedCal values from each group and apply the log function to the samples\n",
    "samples = {\n",
    "    i: np.log(CA_housing.loc[CA_housing.OceanProx == i, \"MedVal\"].sample(n))\n",
    "    for i in [\"<1H OCEAN\", \"NEAR BAY\", \"NEAR OCEAN\", \"INLAND\"]\n",
    "}\n",
    "\n",
    "\n",
    "F_stat,p_value=sp.stats.f_oneway(samples[\"<1H OCEAN\"],\n",
    "                                 samples[\"NEAR BAY\"],\n",
    "                                 samples[\"NEAR OCEAN\"],\n",
    "                                 samples[\"INLAND\"]\n",
    "                                )\n",
    "\n",
    "print('One-way ANOVA test:')\n",
    "print(f'The test statistic is {F_stat:.3f} and the p value is {p_value:.3f}')\n",
    "\n",
    "if p_value > alpha:\n",
    "   print (f'Fail to reject the null hypothesis at the level of significance {alpha}','\\n')\n",
    "else:\n",
    "   print (f'Reject the null hypothesis at the level of significance {alpha}','\\n')"
   ]
  },
  {
   "cell_type": "markdown",
   "metadata": {
    "id": "TAziqMWGirq5"
   },
   "source": [
    "## Two-sample t test"
   ]
  },
  {
   "cell_type": "markdown",
   "metadata": {},
   "source": [
    "The two-sample $t$ test is often used to test if two distributions have the same mean value. \n",
    "\n",
    "Let $\\mu_1$ and $\\mu_2$ denote the means of two distributions, respectively. A random sample is drawn from each distribution. $n_i$, $\\overline{x}_i$, and $s_i$ are the sample size, sample mean, and sample standard deviation of group $j$, for $j=1$ and $2$.\n",
    "\n",
    "\n",
    "The table below shows summarizes the three types of two-sample t test.\n",
    "\n",
    "**Table 2: Hypothesis for two-sample t-test**\n",
    "$$\n",
    "\\begin{array}{l l l l}\n",
    " & \\text{lower-tailed test} & \\text{upper-tailed test} & \\text{two-tailed test} \\\\\n",
    "\\hline\n",
    "\\text{Null hypothesis } H_0: & \\mu_1 \\ge \\mu_2 & \\mu_1 \\le \\mu_2 & \\mu_1 = \\mu_2 \\\\\n",
    "\\text{Alternative hypothesis } H_a: & \\mu_1 < \\mu_2 & \\mu_1 > \\mu_2 & \\mu_1 \\neq \\mu_2 \\\\\n",
    "\\text{p-value:} & P(X \\le t) & P(X > t) & P(X \\ge |t|) \\\\\n",
    "\\hline \n",
    "\\end{array}\n",
    "$$\n",
    "\n",
    "**Unequal variance assumed**\n",
    "\n",
    "If unequal variance of the two distributions is assumed, the test statistic  for two-sample t test is\n",
    "\\begin{equation}\n",
    "t=\\frac{\\overline{x}_1-\\overline{x}_2}{\\sqrt{\\frac{s_1^2}{n_1}+\\frac{s_2^2}{n_2}}}, \\tag{4}\n",
    "\\end{equation}\n",
    "and the  $p$-value for each type of hypothesis tests listed in the Table is calculated using the t distribution with the degrees of freedom determined by\n",
    "\\begin{equation}\n",
    "\\mathrm{df}=\\frac{\\left(\\frac{s_1^2}{n_1}+\\frac{s_2^2}{n_2}\\right)^2}{\\frac{(s_1^2/n_1)^2}{n_1-1}+\\frac{(s_2^2/n_2)^2}{n_2-1}}.\\tag{5}\n",
    "\\end{equation}\n",
    "\n",
    "**Equal variance assumed**\n",
    "\n",
    "If equal variance of the two distributions is assumed, the test statistic  for the two-sample t test is\n",
    "\\begin{equation}\n",
    "t=\\frac{\\overline{x}_1-\\overline{x}_2}{\\sqrt{\\frac{1}{n_1}+\\frac{1}{n_2}}\\sqrt{\\frac{(n_1-1)s_1^2+(n_2-1)s_2^2}{n_1+n_2-2}}}, \\tag{6}\n",
    "\\end{equation}\n",
    "and the $p$-value for each type of hypothesis tests listed in Table is calculated using the t distribution with the degrees of freedom:\n",
    "\\begin{equation}\n",
    "\\mathrm{df} = n_1+n_2-2. \\tag{7}\n",
    "\\end{equation}\n"
   ]
  },
  {
   "cell_type": "markdown",
   "metadata": {},
   "source": [
    "What's the relationship between the mean value of log(MedVal) (the log median value of houses in a block) for blocks near the ocean and those near bay? You may draw a random sample of size 2,000 from each groups,  and use the two independent samples to perform a hypothesis test that compares the mean values of MedVal for the two distributions.\n",
    "\n",
    "H0: $\\mu_{\\text{NEAR BAY}}=\\mu_{\\text{NEAR OCEAN}}$\n",
    "\n",
    "Ha:  $\\mu_{\\text{NEAR BAY}} \\neq \\mu_{\\text{NEAR OCEAN}}$\n",
    "\n",
    "we can use **ttest_ind(sample 1, sampl 2, equal_var, alternative=types of test)** in scipy.stats"
   ]
  },
  {
   "cell_type": "code",
   "execution_count": 8,
   "metadata": {
    "colab": {
     "base_uri": "https://localhost:8080/"
    },
    "executionInfo": {
     "elapsed": 147,
     "status": "ok",
     "timestamp": 1695346609121,
     "user": {
      "displayName": "Ruwen Qin",
      "userId": "01885423067234457717"
     },
     "user_tz": 240
    },
    "id": "ddJiwVvTW2dI",
    "outputId": "6a20302e-00df-4521-d603-26643c23faae"
   },
   "outputs": [
    {
     "name": "stdout",
     "output_type": "stream",
     "text": [
      "two-sample t test:\n",
      "The test statistic is 2.718 and the p value is 0.007\n",
      "Reject the null hypothesis at the level of significance 0.05 \n",
      "\n"
     ]
    }
   ],
   "source": [
    "# two independent simple random samples of size 2000 (n=2000), one from \"NEAR OCEAN\" blocks, and the other from \"NEAR BAY\" blocks\n",
    "\n",
    "\n",
    "alpha =0.05 # level of significance\n",
    "n=2000 # sample size\n",
    "\n",
    "# sample 1000 MedCal values from each group and apply the log function to the samples\n",
    "samples = {\n",
    "    i: np.log(CA_housing.loc[CA_housing.OceanProx == i, \"MedVal\"].sample(n))\n",
    "    for i in [\"NEAR BAY\", \"NEAR OCEAN\"]\n",
    "}\n",
    "\n",
    "# test if the the two distribution have the same mean of MedVal using\n",
    "# sp.stats.ttest_ind(sample 1, sampl 2, alternative=types of test)\n",
    "t_stat,p_value=sp.stats.ttest_ind(samples[\"NEAR BAY\"],\n",
    "                                  samples[\"NEAR OCEAN\"],\n",
    "                                  nan_policy='omit', \n",
    "                                  equal_var=False,\n",
    "                                  alternative='two-sided') # alternative='two-sided', 'less', 'greater'. Note: you need the latest version of scipy to use \"alternative=\"\n",
    "print('two-sample t test:')\n",
    "print(f'The test statistic is {t_stat:.3f} and the p value is {p_value:.3f}')\n",
    "\n",
    "\n",
    "if p_value > alpha:\n",
    "   print (f'Fail to reject the null hypothesis at the level of significance {alpha}','\\n')\n",
    "else:\n",
    "   print (f'Reject the null hypothesis at the level of significance {alpha}','\\n')"
   ]
  },
  {
   "cell_type": "markdown",
   "metadata": {
    "id": "2MxvYDmVoFme"
   },
   "source": [
    "## One-sample z-test"
   ]
  },
  {
   "cell_type": "markdown",
   "metadata": {},
   "source": [
    "The one-sample $z$ test is often used to test a hypothesis on $p$, the probability of success in Bernoulli distribution. Let $p_0$ be the hypothesized probability of success, and $\\alpha$ be the level of significance in the hypothesis testing. A random sample is selected with a sample proportion $\\overline{p}$. The one-sample z test is summarized in the following Table:\n",
    "\n",
    "**Table 3: Hypothesis for one-sample z test**\n",
    "\n",
    "$$\n",
    "\\begin{array}{l l l l}\n",
    " & \\text{lower-tail test} & \\text{upper-tail test} & \\text{two-tail test} \\\\\n",
    "\\hline\n",
    "\\text{Null hypothesis } H_0: & p \\ge p_0 & p \\le p_0 & p = p_0 \\\\\n",
    "\\text{Alternative hypothesis } H_a: & p < p_0 & p > p_0 & p \\neq p_0 \\\\\n",
    "\\text{p-value:} & P(X \\le z) & P(X > z) & P(X \\ge |z|) \\\\\n",
    "\\hline\n",
    "\\end{array}\n",
    "$$\n",
    "\n",
    "\n",
    "The test statistic is\n",
    "\\begin{equation}\n",
    "z=\\frac{\\overline{p}-p_0}{\\sqrt{\\frac{p_0(1-p_0)}{n}}}. \\tag{8}\n",
    "\\end{equation}\n",
    "\n",
    "Thee p-value corresponding to the test statistic $z$ is calculated based on the standard normal distribution. \n",
    "\n"
   ]
  },
  {
   "cell_type": "markdown",
   "metadata": {},
   "source": [
    "Can you generate a random sample of size 1,000 and use the sample to test the probability that a randomly selected survey block being ``NEAR OCEAN\" is greater than 0.2?\n",
    "\n",
    "H0: p = 0.2\\\n",
    "Ha: p> 0.2\n",
    "\n",
    "One-sample z-test using **proportion.proportions_ztest** in statsmodel.stats"
   ]
  },
  {
   "cell_type": "code",
   "execution_count": 9,
   "metadata": {},
   "outputs": [
    {
     "name": "stdout",
     "output_type": "stream",
     "text": [
      "One-sample z test:\n",
      "The test statistic is -3.641 and the p value is 1.000\n",
      "Fail to reject the null hypothesis at the level of significance 0.05 \n",
      "\n"
     ]
    }
   ],
   "source": [
    "n = 1000 # sample size\n",
    "alpha = 0.05 # level of significance\n",
    "p_0=0.2 # hypothesized probability of success\n",
    "\n",
    "# sample 1000 blocks and count those are \"NEAR OCEAN:\n",
    "count = (CA_housing.sample(n).OceanProx==\"NEAR OCEAN\").sum()\n",
    "\n",
    "z_stat, p_value = proportion.proportions_ztest(count=count,\n",
    "                                               nobs=n,\n",
    "                                               value=p_0,\n",
    "                                               alternative='larger',#‘two-sided’, ‘smaller’, ‘larger’]\n",
    "                                               prop_var=False) #If prop_var is false, then the variance of the proportion estimate is calculated based on the sample proportion.\n",
    "print('One-sample z test:')\n",
    "print(f'The test statistic is {z_stat:.3f} and the p value is {p_value:.3f}')\n",
    "\n",
    "\n",
    "if p_value > alpha:\n",
    "   print (f'Fail to reject the null hypothesis at the level of significance {alpha}','\\n')\n",
    "else:\n",
    "   print (f'Reject the null hypothesis at the level of significance {alpha}','\\n')"
   ]
  },
  {
   "cell_type": "markdown",
   "metadata": {
    "id": "Cmb3p_u2x2ZF"
   },
   "source": [
    "## Two-sample z-test"
   ]
  },
  {
   "cell_type": "markdown",
   "metadata": {},
   "source": [
    "Let $p_1$ and $p_2$ be the probabilities of success for two Bernoulli distributions, repsectively. The two-sample $z$ test can be  used to determine if the two distributions have the same probability of success.\n",
    "\n",
    "Let $n_1$ be the sample size of a random sample drawn from distribution 1. $\\overline{p}_1$ is the sample proportion of success. Similarly, $n_2$ is the sample size of a sample drawn from distribution 2 and $\\overline{p}_2$ is the sample proportion. The Table below summarizes the two-sample z tests.\n",
    "\n",
    "**Table 4: Hypothesis for two-sample z test**\n",
    "\n",
    "$$\n",
    "\\begin{array}{l l l l}\n",
    " & \\text{lower-tailed test} & \\text{upper-tailed test} & \\text{two-tailed test} \\\\\n",
    "\\hline\n",
    "\\text{Null hypothesis } H_0: & p_1 \\ge p_2 & p_1 \\le p_2 & p_1 = p_2 \\\\\n",
    "\\text{Alternative hypothesis } H_a: & p_1 < p_2 & p_1 > p_2 & p_1 \\neq p_2 \\\\\n",
    "\\text{p-value:} & P(X \\le z) & P(X > z) & P(X \\ge |z|) \\\\\n",
    "\\hline\n",
    "\\end{array}\n",
    "$$\n",
    "\n",
    "The test statistic is\n",
    "\\begin{equation}\n",
    "z=\\frac{\\overline{p}_1-\\overline{p}_2}{\\sqrt{\\overline{p}(1-\\overline{p})(\\frac{1}{n_1}+\\frac{1}{n_2}})},\\tag{9}\n",
    "\\end{equation}\n",
    "where $\\overline{p}$ is the pooled sample proportion:\n",
    "\\begin{equation}\n",
    "\\overline{p}=\\frac{\\overline{p}_1n_1+\\overline{p}_2n_2}{n_1+n_2}. \\tag{10}\n",
    "\\end{equation}\n",
    "\n",
    "The p-value in the Table is calculated based on the standard normal distribution. \n"
   ]
  },
  {
   "cell_type": "markdown",
   "metadata": {},
   "source": [
    "\n",
    "Assume the first 5,000 rows of the dataset were from district 1, and the next 3,000 rows were from district 2.\n",
    "Can you please test if the probability that a block randomly selected from district 1 being \"NEAR OCEAN' is greater than that probability from district 2?\n",
    "\n",
    "H0: p_1 $\\leq$ p_2\\\n",
    "Ha: p_1 $>$ p_2\n",
    "\n",
    "Two-sample z-test uses **proportion.propprtions_ztest()** from statsmodels.stats\n"
   ]
  },
  {
   "cell_type": "code",
   "execution_count": 10,
   "metadata": {
    "colab": {
     "base_uri": "https://localhost:8080/"
    },
    "executionInfo": {
     "elapsed": 10,
     "status": "ok",
     "timestamp": 1695345669086,
     "user": {
      "displayName": "Ruwen Qin",
      "userId": "01885423067234457717"
     },
     "user_tz": 240
    },
    "id": "snivYsGYyXOP",
    "outputId": "80db7496-1847-4e5f-8ba0-13aba582a585"
   },
   "outputs": [
    {
     "name": "stdout",
     "output_type": "stream",
     "text": [
      "Two-sample z-test:\n",
      "Test statistic is 0.369 and p value is 0.356,\n",
      "\n",
      "Fail to reject the null hypothesis at the level of significance 0.05 \n",
      "\n"
     ]
    }
   ],
   "source": [
    "# Let's test if the \"NEAR OCEAN\" proportion is one district is larger than that in another district\n",
    "\n",
    "Dist_1=CA_housing.iloc[0:5000,:]\n",
    "Dist_2=CA_housing.iloc[500:8000,:]\n",
    "\n",
    "n_1 = 500 # sample size for district 1\n",
    "n_2 = 300 # sample size for district 2\n",
    "alpha = 0.05 # level of significance\n",
    "\n",
    "c_1 = (Dist_1.sample(n_1).OceanProx==\"NEAR OCEAN\").sum() # count \"NEAR OCEAN\" in group 1\n",
    "c_2 = (Dist_2.sample(n_2).OceanProx==\"NEAR OCEAN\").sum() # count \"NEAR OCEAN\" in group 2\n",
    "\n",
    "z_stat, p_value = proportion.proportions_ztest(count=[c_1,c_2], \n",
    "                                               nobs=[n_1,n_2],  \n",
    "                                               alternative='larger'\n",
    "                                              ) #two-sided, larger, smaller\n",
    "print('Two-sample z-test:')\n",
    "print(f'Test statistic is {z_stat:.3f} and p value is {p_value:.3f},\\n')\n",
    "\n",
    "\n",
    "if p_value > alpha:\n",
    "   print (f'Fail to reject the null hypothesis at the level of significance {alpha}','\\n')\n",
    "else:\n",
    "   print (f'Reject the null hypothesis at the level of significance {alpha}','\\n')"
   ]
  },
  {
   "cell_type": "markdown",
   "metadata": {
    "id": "DfacBvy-0JIN"
   },
   "source": [
    "## One-way Chi-squared Goodness-of-fit Test"
   ]
  },
  {
   "cell_type": "markdown",
   "metadata": {},
   "source": [
    "The one-way chi-square goodness-of-fit test examines the null hypothesis that the categorical data has the given frequencies.\n",
    "\n",
    "Consider $F$ as the distribution of a categorical variable that takes values from the set  $\\mathscr{A}=\\{c_k|k=1,\\dots, K\\}$. Let $\\{f_k|k=1,\\dots,K\\}$ be the hypothesized frequency distribution. The one-way $\\chi^2$ test examines:\n",
    "\n",
    "H0: the distribution that generates the data is $\\{f_k|k=1,\\dots,K\\}$ <br>\n",
    "Ha: the distribution that generates the data  is different from $\\{f_k|k=1,\\dots,K\\}$.\n",
    "\n",
    "Given a random sample, $x_1, \\dots, x_n$, drawn from the distribution $F$, we can estimate the frequency distribution: $\\{\\widehat{f}_k|k=1,\\dots,K\\}$:\n",
    "\\begin{equation}\n",
    "\\widehat{f}_k=\\sum_{i=1}^K 1\\{x_i=c_k\\} \\tag{10}\n",
    "\\end{equation}\n",
    "for $i=1,\\dots, k$. Then, we calculate the test statistic:\n",
    "\\begin{equation}\n",
    "Q=\\sum_{i=1}^K \\frac{(\\widehat{f}_k-f_k)^2}{f_k}. \\tag{11}\n",
    "\\end{equation}\n",
    "\n",
    "The p-value is calculated based on the $\\chi^2$ distribution with $K-1$ degrees of freedom. It is the probability that a random value drawn from this distribution is larger than the test statistic. If p-value is less than the level of significance, $\\alpha$, we can reject the null hypothesis safely.\n"
   ]
  },
  {
   "cell_type": "markdown",
   "metadata": {},
   "source": [
    "\n",
    "A hypothesized distribution of survey blocks by 'OceanProx':  [INLAND=0.15, NEAR BAY=0.1, <1H OCEAN=0.4, NEAR OCEAN=0.3, ISLAND'=0.05]. Can you generate a random sample of 2,000 and use the sample to test if the distribution generates the sample is the same as the hypothesized distribution?\n",
    "\n",
    "\n",
    "H0: f $=$ [0.15, 0.1, 0.4, 0.3, 0.05]\\\n",
    "Ha:f $\\neq$ [0.15, 0.1, 0.4, 0.3, 0.05]\n",
    "\n",
    "One-way $\\chi^2$ test using **scipy.stats.chisquare**"
   ]
  },
  {
   "cell_type": "code",
   "execution_count": 11,
   "metadata": {
    "colab": {
     "base_uri": "https://localhost:8080/"
    },
    "executionInfo": {
     "elapsed": 8,
     "status": "ok",
     "timestamp": 1695345669086,
     "user": {
      "displayName": "Ruwen Qin",
      "userId": "01885423067234457717"
     },
     "user_tz": 240
    },
    "id": "xE_Rzgoi0MHM",
    "outputId": "d574e38e-ad58-41c7-ab97-7e3d82898fca"
   },
   "outputs": [
    {
     "data": {
      "text/plain": [
       "[606, 224, 907, 263, 0]"
      ]
     },
     "execution_count": 11,
     "metadata": {},
     "output_type": "execute_result"
    },
    {
     "data": {
      "text/plain": [
       "[np.int64(300), np.int64(600), np.int64(200), np.int64(800), np.int64(100)]"
      ]
     },
     "execution_count": 11,
     "metadata": {},
     "output_type": "execute_result"
    },
    {
     "name": "stdout",
     "output_type": "stream",
     "text": [
      "The one-way chi-squared test:\n",
      "Test statistic is 3507.453 and the p value is 0.000,\n",
      "\n",
      "Reject the null hypothesis at the level of significance 0.05 \n",
      "\n"
     ]
    }
   ],
   "source": [
    "n = 2000 # sample size\n",
    "alpha = 0.05 # level of significance\n",
    "\n",
    "# what do we expect to see in proportions?\n",
    "expected_distribution = [0.15, 0.3, 0.1, 0.4, 0.05]\n",
    "\n",
    "\n",
    "# what counts did we see in our sample?\n",
    "x=list(CA_housing['OceanProx'].sample(n))\n",
    "observed_counts = [x.count('INLAND'), x.count('NEAR BAY'),x.count('<1H OCEAN'),x.count('NEAR OCEAN'),x.count('ISLAND')]\n",
    "observed_counts\n",
    "\n",
    "\n",
    "# counts based on expected proportions\n",
    "expected_counts = list((np.array(expected_distribution) * n).astype(int))\n",
    "expected_counts\n",
    "\n",
    "# Get the stat data. sp.stats.chisquare(observed_counts,expected_counts)\n",
    "chi_stat, p_value = sp.stats.chisquare(observed_counts, expected_counts)\n",
    "\n",
    "# report\n",
    "print('The one-way chi-squared test:')\n",
    "print(f'Test statistic is {chi_stat:.3f} and the p value is {p_value:.3f},\\n')\n",
    "\n",
    "\n",
    "if p_value > alpha:\n",
    "   print (f'Fail to reject the null hypothesis at the level of significance {alpha}','\\n')\n",
    "else:\n",
    "   print (f'Reject the null hypothesis at the level of significance {alpha}','\\n')"
   ]
  },
  {
   "cell_type": "markdown",
   "metadata": {
    "id": "ia9fIVdItqaM"
   },
   "source": [
    "## Chi-quared Contingency Test"
   ]
  },
  {
   "cell_type": "markdown",
   "metadata": {},
   "source": [
    "The $\\chi^2$ contingency test is used to determine if the distribution of a categorical variable is homogeneous across different populations.\n",
    "\n",
    "For example,  to determine if the distribution of survey blocks by OceanProx is homogeneous across three districts,  we selected one sample from each district and summarized the frequency distribution accordingly:\n",
    "\n",
    "**Table 5: Distribution by District** \n",
    "\n",
    "| OceanProx    | District_1 | District_2 | District_3 |\n",
    "|---------------|-------------|-------------|-------------|\n",
    "| INLAND        | 164         | 44          | 283         |\n",
    "| NEAR BAY      | 131         | 0           | 20          |\n",
    "| <1H OCEAN     | 195         | 244         | 262         |\n",
    "| NEAR OCEAN    | 10          | 12          | 34          |\n",
    "| ISLAND        | 0           | 0           | 1           |\n",
    "\n",
    "\n",
    "We can use $\\chi^2$ contingency test to examine if the distribution is homogeneous across the three districts:\n",
    "\n",
    "H0: the distributions are homogeneous<br>\n",
    "Ha: the distributions are not homogeneous\n",
    "\n",
    "The test statistic is:\n",
    "\\begin{equation}\n",
    "Q=\\sum_{k=1}^K\\sum_{l=1}^L (O_{k,l}-E_{k,l})^2/E_{k,l}  \\tag{12}\n",
    "\\end{equation}\n",
    "where $O_{k,l}$ is the observed value of category $k$ from distribution $l$, $L$ is the number of distributions, and $K$ is the number of categories of the categorical variable. $E_{k,l}$ is the expected value of category $k$ from distribution $l$, computed as:\n",
    "\\begin{equation}\n",
    "E_{k,l}=\\frac{\\sum_{k=1}^K O_{k,l}\\sum_{l=1}^L O_{k,l}}{\\sum_{l=1}^L\\sum_{k=1}^K O_{k,l}}. \\tag{13}\n",
    "\\end{equation}\n",
    "\n",
    "The p-value is the probability that a random value drawn from the chi-square distribution with $(K-1)(L-1)$ degrees of freedom being greater than the test statistic $Q$. If the p-value at the test statistic is less than the level of significance $\\alpha$, we can safely reject the null hypothesis and conclude that the distribution of the categorical variable is not homogeneous across different populations.\n"
   ]
  },
  {
   "cell_type": "markdown",
   "metadata": {},
   "source": [
    "Assuming the first 5000 rows of CA_housing are in the first district, the next 3000 rows are in the second district, and the following 6000 rows are in the third district.\n",
    "\n",
    "Let's draw a random sample of size 10% from each district. Using the sample data, can you test if the distribution of `OceanProx' is homogeneous across the three districts?\n",
    "\n",
    "H0: f_1 = f_2 = f_3\\\n",
    "Ha: $\\exists\\; f_i\\neq f_j$, for $i, j \\in\\{1,2,3\\}$\n",
    "\n",
    "$\\chi^2$ contingency test using **scipy.stats.chi2_contingency**"
   ]
  },
  {
   "cell_type": "code",
   "execution_count": 12,
   "metadata": {},
   "outputs": [
    {
     "data": {
      "text/html": [
       "<div>\n",
       "<style scoped>\n",
       "    .dataframe tbody tr th:only-of-type {\n",
       "        vertical-align: middle;\n",
       "    }\n",
       "\n",
       "    .dataframe tbody tr th {\n",
       "        vertical-align: top;\n",
       "    }\n",
       "\n",
       "    .dataframe thead th {\n",
       "        text-align: right;\n",
       "    }\n",
       "</style>\n",
       "<table border=\"1\" class=\"dataframe\">\n",
       "  <thead>\n",
       "    <tr style=\"text-align: right;\">\n",
       "      <th></th>\n",
       "      <th>District_1</th>\n",
       "      <th>District_2</th>\n",
       "      <th>District_3</th>\n",
       "    </tr>\n",
       "    <tr>\n",
       "      <th>OceanProx</th>\n",
       "      <th></th>\n",
       "      <th></th>\n",
       "      <th></th>\n",
       "    </tr>\n",
       "  </thead>\n",
       "  <tbody>\n",
       "    <tr>\n",
       "      <th>INLAND</th>\n",
       "      <td>164</td>\n",
       "      <td>44</td>\n",
       "      <td>283</td>\n",
       "    </tr>\n",
       "    <tr>\n",
       "      <th>NEAR BAY</th>\n",
       "      <td>131</td>\n",
       "      <td>0</td>\n",
       "      <td>20</td>\n",
       "    </tr>\n",
       "    <tr>\n",
       "      <th>&lt;1H OCEAN</th>\n",
       "      <td>195</td>\n",
       "      <td>244</td>\n",
       "      <td>262</td>\n",
       "    </tr>\n",
       "    <tr>\n",
       "      <th>NEAR OCEAN</th>\n",
       "      <td>10</td>\n",
       "      <td>12</td>\n",
       "      <td>34</td>\n",
       "    </tr>\n",
       "    <tr>\n",
       "      <th>ISLAND</th>\n",
       "      <td>0</td>\n",
       "      <td>0</td>\n",
       "      <td>1</td>\n",
       "    </tr>\n",
       "  </tbody>\n",
       "</table>\n",
       "</div>"
      ],
      "text/plain": [
       "            District_1  District_2  District_3\n",
       "OceanProx                                     \n",
       "INLAND             164          44         283\n",
       "NEAR BAY           131           0          20\n",
       "<1H OCEAN          195         244         262\n",
       "NEAR OCEAN          10          12          34\n",
       "ISLAND               0           0           1"
      ]
     },
     "execution_count": 12,
     "metadata": {},
     "output_type": "execute_result"
    },
    {
     "name": "stdout",
     "output_type": "stream",
     "text": [
      "Chi-squared contingincy test:\n",
      "Test statistic is 320.987 and the p value is 0.000\n",
      "\n",
      "Reject the null hypothesis at the level of significance 0.05 \n",
      "\n"
     ]
    }
   ],
   "source": [
    "Dist_1=CA_housing.iloc[0:5000,:]\n",
    "Dist_2=CA_housing.iloc[5000:8000,:]\n",
    "Dist_3=CA_housing.iloc[8000:14000,:]\n",
    "\n",
    "n_1, n_2, n_3 = (0.1*np.array([len(Dist_1), len(Dist_2), len(Dist_3)])).astype(int)\n",
    "alpha = 0.05 # level of significance\n",
    "\n",
    "\n",
    "c_1 = Dist_1['OceanProx'].sample(n_1,random_state=0).value_counts()\n",
    "c_2 = Dist_2['OceanProx'].sample(n_2,random_state=0).value_counts()\n",
    "c_3 = Dist_3['OceanProx'].sample(n_3,random_state=0).value_counts()\n",
    "my_table = pd.DataFrame({'District_1': c_1, 'District_2': c_2, 'District_3': c_3}).fillna(0)\n",
    "my_table\n",
    "\n",
    "\n",
    "chi_stat, p_value, degrees_of_freedom, expected = sp.stats.chi2_contingency(my_table.T.values)\n",
    "print('Chi-squared contingincy test:')\n",
    "print(f'Test statistic is {chi_stat:.3f} and the p value is {p_value:.3f}\\n')\n",
    "\n",
    "if p_value > alpha:\n",
    "   print (f'Fail to reject the null hypothesis at the level of significance {alpha}','\\n')\n",
    "else:\n",
    "   print (f'Reject the null hypothesis at the level of significance {alpha}','\\n')"
   ]
  },
  {
   "cell_type": "markdown",
   "metadata": {},
   "source": [
    "Students who need to use sampling and statistical inference in depth should read textbooks in detail. \n",
    "\n",
    "Wasserman, Larry. All of statistics: a concise course in statistical inference. Springer Science & Business Media, 2013.\n",
    "\n",
    "Ross, Sheldon M. Introduction to probability and statistics for engineers and scientists. Academic press, 2020.\n"
   ]
  }
 ],
 "metadata": {
  "colab": {
   "authorship_tag": "ABX9TyMfgGpFO0pJJcN4hKDu+LUR",
   "mount_file_id": "1J6oUAjKFPI6o2FzGJeAFRpoiBZHrjlEZ",
   "provenance": [],
   "toc_visible": true
  },
  "kernelspec": {
   "display_name": "Python 3 (ipykernel)",
   "language": "python",
   "name": "python3"
  },
  "language_info": {
   "codemirror_mode": {
    "name": "ipython",
    "version": 3
   },
   "file_extension": ".py",
   "mimetype": "text/x-python",
   "name": "python",
   "nbconvert_exporter": "python",
   "pygments_lexer": "ipython3",
   "version": "3.9.23"
  },
  "toc": {
   "base_numbering": 1,
   "nav_menu": {},
   "number_sections": false,
   "sideBar": true,
   "skip_h1_title": false,
   "title_cell": "Table of Contents",
   "title_sidebar": "Contents",
   "toc_cell": false,
   "toc_position": {
    "height": "calc(100% - 180px)",
    "left": "10px",
    "top": "150px",
    "width": "320px"
   },
   "toc_section_display": true,
   "toc_window_display": true
  },
  "varInspector": {
   "cols": {
    "lenName": 16,
    "lenType": 16,
    "lenVar": 40
   },
   "kernels_config": {
    "python": {
     "delete_cmd_postfix": "",
     "delete_cmd_prefix": "del ",
     "library": "var_list.py",
     "varRefreshCmd": "print(var_dic_list())"
    },
    "r": {
     "delete_cmd_postfix": ") ",
     "delete_cmd_prefix": "rm(",
     "library": "var_list.r",
     "varRefreshCmd": "cat(var_dic_list()) "
    }
   },
   "types_to_exclude": [
    "module",
    "function",
    "builtin_function_or_method",
    "instance",
    "_Feature"
   ],
   "window_display": false
  }
 },
 "nbformat": 4,
 "nbformat_minor": 4
}
